{
  "nbformat": 4,
  "nbformat_minor": 0,
  "metadata": {
    "colab": {
      "name": "test_open_spreadsheet",
      "provenance": [],
      "collapsed_sections": [],
      "authorship_tag": "ABX9TyO4OSj3Q+X0dG9QijxC3b2q",
      "include_colab_link": true
    },
    "kernelspec": {
      "name": "python3",
      "display_name": "Python 3"
    }
  },
  "cells": [
    {
      "cell_type": "markdown",
      "metadata": {
        "id": "view-in-github",
        "colab_type": "text"
      },
      "source": [
        "<a href=\"https://colab.research.google.com/github/porlan49/ml/blob/master/test_open_spreadsheet.ipynb\" target=\"_parent\"><img src=\"https://colab.research.google.com/assets/colab-badge.svg\" alt=\"Open In Colab\"/></a>"
      ]
    },
    {
      "cell_type": "code",
      "metadata": {
        "id": "5zjjq3MI2O0z",
        "colab_type": "code",
        "colab": {}
      },
      "source": [
        "import pandas as pd\n"
      ],
      "execution_count": 0,
      "outputs": []
    },
    {
      "cell_type": "code",
      "metadata": {
        "id": "Tb8Hdl_p3it7",
        "colab_type": "code",
        "colab": {}
      },
      "source": [
        "from google.colab import auth\n",
        "auth.authenticate_user()\n",
        "import gspread\n",
        "from oauth2client.client import GoogleCredentials\n",
        "gc = gspread.authorize(GoogleCredentials.get_application_default())"
      ],
      "execution_count": 0,
      "outputs": []
    },
    {
      "cell_type": "code",
      "metadata": {
        "id": "fJRtoR2k2nCy",
        "colab_type": "code",
        "colab": {}
      },
      "source": [
        "ayvd1 = gc.open_by_url('https://docs.google.com/spreadsheets/d/1pgITYOLdnCe1p45Gd0Qst7d59FmI34vanokEtxtAKrc/edit#gid=1177211987')"
      ],
      "execution_count": 0,
      "outputs": []
    },
    {
      "cell_type": "code",
      "metadata": {
        "id": "lz4EkolU2tNG",
        "colab_type": "code",
        "colab": {}
      },
      "source": [
        "# sheet = ayvd1.worksheet('Respuestas%de%formulario%1')\n",
        "sheet = ayvd1.sheet1\n",
        "data = sheet.get_all_values()"
      ],
      "execution_count": 0,
      "outputs": []
    },
    {
      "cell_type": "code",
      "metadata": {
        "id": "IIoweO5W4M23",
        "colab_type": "code",
        "colab": {}
      },
      "source": [
        "df = pd.DataFrame(data)"
      ],
      "execution_count": 0,
      "outputs": []
    },
    {
      "cell_type": "code",
      "metadata": {
        "id": "GhxtAvoU5XPv",
        "colab_type": "code",
        "outputId": "54f1330b-f7c1-4cf0-aba8-03e70a3a58b4",
        "colab": {
          "base_uri": "https://localhost:8080/",
          "height": 306
        }
      },
      "source": [
        "df.head()"
      ],
      "execution_count": 0,
      "outputs": [
        {
          "output_type": "execute_result",
          "data": {
            "text/html": [
              "<div>\n",
              "<style scoped>\n",
              "    .dataframe tbody tr th:only-of-type {\n",
              "        vertical-align: middle;\n",
              "    }\n",
              "\n",
              "    .dataframe tbody tr th {\n",
              "        vertical-align: top;\n",
              "    }\n",
              "\n",
              "    .dataframe thead th {\n",
              "        text-align: right;\n",
              "    }\n",
              "</style>\n",
              "<table border=\"1\" class=\"dataframe\">\n",
              "  <thead>\n",
              "    <tr style=\"text-align: right;\">\n",
              "      <th></th>\n",
              "      <th>0</th>\n",
              "      <th>1</th>\n",
              "      <th>2</th>\n",
              "      <th>3</th>\n",
              "      <th>4</th>\n",
              "      <th>5</th>\n",
              "      <th>6</th>\n",
              "    </tr>\n",
              "  </thead>\n",
              "  <tbody>\n",
              "    <tr>\n",
              "      <th>0</th>\n",
              "      <td>Marca temporal</td>\n",
              "      <td>¿Con qué género te identificás?</td>\n",
              "      <td>¿Qué edad tenés?</td>\n",
              "      <td>¿De qué signo sos?</td>\n",
              "      <td>¿A qué te dedicás?</td>\n",
              "      <td>¿Cuánto creés que gana por mes un programador ...</td>\n",
              "      <td>¿Cuánto creés que gana por mes un programador ...</td>\n",
              "    </tr>\n",
              "    <tr>\n",
              "      <th>1</th>\n",
              "      <td>31/03/2020 17:10:01</td>\n",
              "      <td>Mujer</td>\n",
              "      <td>27</td>\n",
              "      <td>Tauro</td>\n",
              "      <td>Programadora</td>\n",
              "      <td>40000</td>\n",
              "      <td>80000</td>\n",
              "    </tr>\n",
              "    <tr>\n",
              "      <th>2</th>\n",
              "      <td>12/05/2020 15:19:14</td>\n",
              "      <td>Mujer</td>\n",
              "      <td>40</td>\n",
              "      <td>Acuario</td>\n",
              "      <td>Docente investigadora</td>\n",
              "      <td>50000</td>\n",
              "      <td>90000</td>\n",
              "    </tr>\n",
              "    <tr>\n",
              "      <th>3</th>\n",
              "      <td>13/05/2020 13:43:48</td>\n",
              "      <td>Hombre</td>\n",
              "      <td>22</td>\n",
              "      <td>Géminis</td>\n",
              "      <td>Estudiante de Astronomía</td>\n",
              "      <td>25000</td>\n",
              "      <td>60000</td>\n",
              "    </tr>\n",
              "    <tr>\n",
              "      <th>4</th>\n",
              "      <td>13/05/2020 18:12:04</td>\n",
              "      <td>Mujer</td>\n",
              "      <td>23</td>\n",
              "      <td>Cáncer</td>\n",
              "      <td>profesora</td>\n",
              "      <td>32000</td>\n",
              "      <td>50000</td>\n",
              "    </tr>\n",
              "  </tbody>\n",
              "</table>\n",
              "</div>"
            ],
            "text/plain": [
              "                     0  ...                                                  6\n",
              "0       Marca temporal  ...  ¿Cuánto creés que gana por mes un programador ...\n",
              "1  31/03/2020 17:10:01  ...                                              80000\n",
              "2  12/05/2020 15:19:14  ...                                              90000\n",
              "3  13/05/2020 13:43:48  ...                                              60000\n",
              "4  13/05/2020 18:12:04  ...                                              50000\n",
              "\n",
              "[5 rows x 7 columns]"
            ]
          },
          "metadata": {
            "tags": []
          },
          "execution_count": 23
        }
      ]
    },
    {
      "cell_type": "code",
      "metadata": {
        "id": "mpHJ5H2F5X4e",
        "colab_type": "code",
        "outputId": "fb266dc7-c72a-4bd9-a76e-e105e93d66cc",
        "colab": {
          "base_uri": "https://localhost:8080/",
          "height": 119
        }
      },
      "source": [
        "! git clone https://github.com/DiploDatos/AnalisisyVisualizacion.git"
      ],
      "execution_count": 0,
      "outputs": [
        {
          "output_type": "stream",
          "text": [
            "Cloning into 'AnalisisyVisualizacion'...\n",
            "remote: Enumerating objects: 21, done.\u001b[K\n",
            "remote: Counting objects: 100% (21/21), done.\u001b[K\n",
            "remote: Compressing objects: 100% (16/16), done.\u001b[K\n",
            "remote: Total 87 (delta 6), reused 19 (delta 5), pack-reused 66\u001b[K\n",
            "Unpacking objects: 100% (87/87), done.\n"
          ],
          "name": "stdout"
        }
      ]
    },
    {
      "cell_type": "code",
      "metadata": {
        "id": "O2pjNSlb7iqU",
        "colab_type": "code",
        "outputId": "299d5629-353d-43f6-d0cf-60fbfea382a9",
        "colab": {
          "base_uri": "https://localhost:8080/",
          "height": 119
        }
      },
      "source": [
        "! git clone https://github.com/porlan49/ml.git"
      ],
      "execution_count": 0,
      "outputs": [
        {
          "output_type": "stream",
          "text": [
            "Cloning into 'ml'...\n",
            "remote: Enumerating objects: 57, done.\u001b[K\n",
            "remote: Counting objects: 100% (57/57), done.\u001b[K\n",
            "remote: Compressing objects: 100% (47/47), done.\u001b[K\n",
            "remote: Total 57 (delta 18), reused 24 (delta 8), pack-reused 0\u001b[K\n",
            "Unpacking objects: 100% (57/57), done.\n"
          ],
          "name": "stdout"
        }
      ]
    },
    {
      "cell_type": "code",
      "metadata": {
        "id": "rKjLDLJ58jpX",
        "colab_type": "code",
        "colab": {}
      },
      "source": [
        ""
      ],
      "execution_count": 0,
      "outputs": []
    }
  ]
}
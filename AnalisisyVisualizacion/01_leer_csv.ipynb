{
  "nbformat": 4,
  "nbformat_minor": 0,
  "metadata": {
    "colab": {
      "name": "01_leer_csv.ipynb",
      "provenance": [],
      "toc_visible": true
    },
    "kernelspec": {
      "display_name": "Python 3",
      "language": "python",
      "name": "python3"
    },
    "language_info": {
      "codemirror_mode": {
        "name": "ipython",
        "version": 3
      },
      "file_extension": ".py",
      "mimetype": "text/x-python",
      "name": "python",
      "nbconvert_exporter": "python",
      "pygments_lexer": "ipython3",
      "version": "3.8.2"
    }
  },
  "cells": [
    {
      "cell_type": "markdown",
      "metadata": {
        "id": "6fgNrVKc-fBJ",
        "colab_type": "text"
      },
      "source": [
        "<center>\n",
        "<h4>Universidad Nacional de Córdoba - Facultad de Matemática, Astronomía, Física y Computación</h4>\n",
        "<h3>Diplomatura en Ciencia de Datos, Aprendizaje Automático y sus Aplicaciones</h3>\n",
        "</center>"
      ]
    },
    {
      "cell_type": "markdown",
      "metadata": {
        "id": "e_UU08mY-fBL",
        "colab_type": "text"
      },
      "source": [
        "# ¿Cómo leer datos desde pandas?\n",
        "\n",
        "En esta primera notebook, aprendemos cómo cargar un conjunto de datos utilizando pandas y cómo ver su contenido."
      ]
    },
    {
      "cell_type": "code",
      "metadata": {
        "colab_type": "code",
        "id": "yBWTBtS8Mp1D",
        "outputId": "1b06c82e-e41c-45df-a47d-05ccbc939bab",
        "colab": {
          "base_uri": "https://localhost:8080/",
          "height": 34
        }
      },
      "source": [
        "import io\n",
        "import pandas\n",
        "import seaborn\n",
        "\n",
        "print(seaborn.__version__)"
      ],
      "execution_count": 16,
      "outputs": [
        {
          "output_type": "stream",
          "text": [
            "0.10.1\n"
          ],
          "name": "stdout"
        }
      ]
    },
    {
      "cell_type": "code",
      "metadata": {
        "colab_type": "code",
        "id": "mlKzjQLeOIcJ",
        "colab": {}
      },
      "source": [
        "# for jupyterlab\n",
        "# df = pandas.read_csv('datos/Dataset AyVD 2020 (respuestas) - Respuestas de formulario 1.csv')\n",
        "\n",
        "# for colab\n",
        "df = pandas.read_csv('Dataset AyVD 2020 (respuestas) - Respuestas de formulario 1.csv')"
      ],
      "execution_count": 0,
      "outputs": []
    },
    {
      "cell_type": "markdown",
      "metadata": {
        "colab_type": "text",
        "id": "wJAWakVRQvki"
      },
      "source": [
        "Con esta operación, hemos creado un DataFrame (DF) de pandas en base al archivo de respuestas. Un DataFrame no es más que una tabla sobre la cual podemos aplicar un montón de operaciones similares a las de Excel o a las SQL. En esta notebook no pretendemos hacer un tutorial de pandas, el Internet está lleno de ellos, pero sí iremos explicando cómo implementar determinadas operaciones necesarias para el análisis de este conjunto de datos.\n",
        "\n",
        "Veamos qué tiene adentro el DataFrame `df`."
      ]
    },
    {
      "cell_type": "code",
      "metadata": {
        "colab_type": "code",
        "id": "9YWxH8kTOx6N",
        "outputId": "0dbd5d93-185b-4236-af17-297c7d0e2680",
        "colab": {
          "base_uri": "https://localhost:8080/",
          "height": 606
        }
      },
      "source": [
        "df"
      ],
      "execution_count": 18,
      "outputs": [
        {
          "output_type": "execute_result",
          "data": {
            "text/html": [
              "<div>\n",
              "<style scoped>\n",
              "    .dataframe tbody tr th:only-of-type {\n",
              "        vertical-align: middle;\n",
              "    }\n",
              "\n",
              "    .dataframe tbody tr th {\n",
              "        vertical-align: top;\n",
              "    }\n",
              "\n",
              "    .dataframe thead th {\n",
              "        text-align: right;\n",
              "    }\n",
              "</style>\n",
              "<table border=\"1\" class=\"dataframe\">\n",
              "  <thead>\n",
              "    <tr style=\"text-align: right;\">\n",
              "      <th></th>\n",
              "      <th>Marca temporal</th>\n",
              "      <th>¿Con qué género te identificás?</th>\n",
              "      <th>¿Qué edad tenés?</th>\n",
              "      <th>¿De qué signo sos?</th>\n",
              "      <th>¿A qué te dedicás?</th>\n",
              "      <th>¿Cuánto creés que gana por mes un programador (con dos o menos años de experiencia) en la industria argentina?</th>\n",
              "      <th>¿Cuánto creés que gana por mes un programador (con tres o más años de experiencia) en la industria argentina?</th>\n",
              "    </tr>\n",
              "  </thead>\n",
              "  <tbody>\n",
              "    <tr>\n",
              "      <th>0</th>\n",
              "      <td>31/03/2020 17:10:01</td>\n",
              "      <td>Mujer</td>\n",
              "      <td>27</td>\n",
              "      <td>Tauro</td>\n",
              "      <td>Programadora</td>\n",
              "      <td>40000</td>\n",
              "      <td>80000</td>\n",
              "    </tr>\n",
              "    <tr>\n",
              "      <th>1</th>\n",
              "      <td>12/05/2020 15:19:14</td>\n",
              "      <td>Mujer</td>\n",
              "      <td>40</td>\n",
              "      <td>Acuario</td>\n",
              "      <td>Docente investigadora</td>\n",
              "      <td>50000</td>\n",
              "      <td>90000</td>\n",
              "    </tr>\n",
              "    <tr>\n",
              "      <th>2</th>\n",
              "      <td>13/05/2020 13:43:48</td>\n",
              "      <td>Hombre</td>\n",
              "      <td>22</td>\n",
              "      <td>Géminis</td>\n",
              "      <td>Estudiante de Astronomía</td>\n",
              "      <td>25000</td>\n",
              "      <td>60000</td>\n",
              "    </tr>\n",
              "    <tr>\n",
              "      <th>3</th>\n",
              "      <td>13/05/2020 18:12:04</td>\n",
              "      <td>Mujer</td>\n",
              "      <td>23</td>\n",
              "      <td>Cáncer</td>\n",
              "      <td>profesora</td>\n",
              "      <td>32000</td>\n",
              "      <td>50000</td>\n",
              "    </tr>\n",
              "    <tr>\n",
              "      <th>4</th>\n",
              "      <td>14/05/2020 16:30:09</td>\n",
              "      <td>Hombre</td>\n",
              "      <td>33</td>\n",
              "      <td>Capricornio</td>\n",
              "      <td>Docente investigador</td>\n",
              "      <td>60000</td>\n",
              "      <td>80000</td>\n",
              "    </tr>\n",
              "    <tr>\n",
              "      <th>...</th>\n",
              "      <td>...</td>\n",
              "      <td>...</td>\n",
              "      <td>...</td>\n",
              "      <td>...</td>\n",
              "      <td>...</td>\n",
              "      <td>...</td>\n",
              "      <td>...</td>\n",
              "    </tr>\n",
              "    <tr>\n",
              "      <th>83</th>\n",
              "      <td>15/05/2020 18:55:53</td>\n",
              "      <td>Hombre</td>\n",
              "      <td>28</td>\n",
              "      <td>Picis</td>\n",
              "      <td>Data Engineer</td>\n",
              "      <td>60000</td>\n",
              "      <td>140000</td>\n",
              "    </tr>\n",
              "    <tr>\n",
              "      <th>84</th>\n",
              "      <td>15/05/2020 19:11:15</td>\n",
              "      <td>Otro</td>\n",
              "      <td>45</td>\n",
              "      <td>Géminis</td>\n",
              "      <td>Diseño gráfico</td>\n",
              "      <td>68000</td>\n",
              "      <td>80000</td>\n",
              "    </tr>\n",
              "    <tr>\n",
              "      <th>85</th>\n",
              "      <td>15/05/2020 19:11:46</td>\n",
              "      <td>Prefiero no decirlo</td>\n",
              "      <td>9</td>\n",
              "      <td>Libra</td>\n",
              "      <td>lksadaokpoqwe</td>\n",
              "      <td>3</td>\n",
              "      <td>4</td>\n",
              "    </tr>\n",
              "    <tr>\n",
              "      <th>86</th>\n",
              "      <td>15/05/2020 20:58:25</td>\n",
              "      <td>Prefiero no decirlo</td>\n",
              "      <td>44</td>\n",
              "      <td>NaN</td>\n",
              "      <td>profesor</td>\n",
              "      <td>40000</td>\n",
              "      <td>120000</td>\n",
              "    </tr>\n",
              "    <tr>\n",
              "      <th>87</th>\n",
              "      <td>16/05/2020 19:11:32</td>\n",
              "      <td>Hombre</td>\n",
              "      <td>32</td>\n",
              "      <td>Escorpio</td>\n",
              "      <td>Programador</td>\n",
              "      <td>50000</td>\n",
              "      <td>60000</td>\n",
              "    </tr>\n",
              "  </tbody>\n",
              "</table>\n",
              "<p>88 rows × 7 columns</p>\n",
              "</div>"
            ],
            "text/plain": [
              "         Marca temporal  ... ¿Cuánto creés que gana por mes un programador (con tres o más años de experiencia) en la industria argentina?\n",
              "0   31/03/2020 17:10:01  ...                                              80000                                                           \n",
              "1   12/05/2020 15:19:14  ...                                              90000                                                           \n",
              "2   13/05/2020 13:43:48  ...                                              60000                                                           \n",
              "3   13/05/2020 18:12:04  ...                                              50000                                                           \n",
              "4   14/05/2020 16:30:09  ...                                              80000                                                           \n",
              "..                  ...  ...                                                ...                                                           \n",
              "83  15/05/2020 18:55:53  ...                                             140000                                                           \n",
              "84  15/05/2020 19:11:15  ...                                              80000                                                           \n",
              "85  15/05/2020 19:11:46  ...                                                  4                                                           \n",
              "86  15/05/2020 20:58:25  ...                                             120000                                                           \n",
              "87  16/05/2020 19:11:32  ...                                              60000                                                           \n",
              "\n",
              "[88 rows x 7 columns]"
            ]
          },
          "metadata": {
            "tags": []
          },
          "execution_count": 18
        }
      ]
    },
    {
      "cell_type": "code",
      "metadata": {
        "colab_type": "code",
        "id": "T5Yi4oRQkRYW",
        "outputId": "f8b377dd-c2f5-4176-a456-3b5c085b3df9",
        "colab": {
          "base_uri": "https://localhost:8080/",
          "height": 105
        }
      },
      "source": [
        "df.columns"
      ],
      "execution_count": 19,
      "outputs": [
        {
          "output_type": "execute_result",
          "data": {
            "text/plain": [
              "Index(['Marca temporal', '¿Con qué género te identificás?', '¿Qué edad tenés?',\n",
              "       '¿De qué signo sos?', '¿A qué te dedicás?',\n",
              "       '¿Cuánto creés que gana por mes un programador (con dos o menos años de experiencia) en la industria argentina?',\n",
              "       '¿Cuánto creés que gana por mes un programador (con tres o más años de experiencia) en la industria argentina?'],\n",
              "      dtype='object')"
            ]
          },
          "metadata": {
            "tags": []
          },
          "execution_count": 19
        }
      ]
    },
    {
      "cell_type": "code",
      "metadata": {
        "colab_type": "code",
        "id": "inHyXC9EkU7K",
        "outputId": "637418bf-e1f3-42e8-9db8-095eb77b3352",
        "colab": {
          "base_uri": "https://localhost:8080/",
          "height": 34
        }
      },
      "source": [
        "len(df)"
      ],
      "execution_count": 20,
      "outputs": [
        {
          "output_type": "execute_result",
          "data": {
            "text/plain": [
              "88"
            ]
          },
          "metadata": {
            "tags": []
          },
          "execution_count": 20
        }
      ]
    },
    {
      "cell_type": "code",
      "metadata": {
        "colab_type": "code",
        "id": "f8FdSEQJkY_t",
        "outputId": "f56678c8-4af9-44ee-f931-3e39918b4c1f",
        "colab": {
          "base_uri": "https://localhost:8080/",
          "height": 230
        }
      },
      "source": [
        "df['Marca temporal']"
      ],
      "execution_count": 21,
      "outputs": [
        {
          "output_type": "execute_result",
          "data": {
            "text/plain": [
              "0     31/03/2020 17:10:01\n",
              "1     12/05/2020 15:19:14\n",
              "2     13/05/2020 13:43:48\n",
              "3     13/05/2020 18:12:04\n",
              "4     14/05/2020 16:30:09\n",
              "             ...         \n",
              "83    15/05/2020 18:55:53\n",
              "84    15/05/2020 19:11:15\n",
              "85    15/05/2020 19:11:46\n",
              "86    15/05/2020 20:58:25\n",
              "87    16/05/2020 19:11:32\n",
              "Name: Marca temporal, Length: 88, dtype: object"
            ]
          },
          "metadata": {
            "tags": []
          },
          "execution_count": 21
        }
      ]
    },
    {
      "cell_type": "markdown",
      "metadata": {
        "colab_type": "text",
        "id": "5o4INtyGSTxJ"
      },
      "source": [
        "## Variables y columnas\n",
        "\n",
        "Para trabajar más cómodamente, renombraremos las columnas de DataFrame. Tengan cuidado de que el orden de los nombres nuevos se corresponda con el contenido de cada columna."
      ]
    },
    {
      "cell_type": "code",
      "metadata": {
        "colab_type": "code",
        "id": "D4HILmylmAO6",
        "colab": {}
      },
      "source": [
        "df.columns = ['timestamp', 'gender', 'age', 'zodiac_sign', 'profession', 'junior_programmer_salary', 'senior_programmer_salary']"
      ],
      "execution_count": 0,
      "outputs": []
    },
    {
      "cell_type": "code",
      "metadata": {
        "colab_type": "code",
        "id": "-Wfg2p78PN_-",
        "outputId": "a1274544-e064-47ae-ba16-a537f0549464",
        "colab": {
          "base_uri": "https://localhost:8080/",
          "height": 406
        }
      },
      "source": [
        "df"
      ],
      "execution_count": 23,
      "outputs": [
        {
          "output_type": "execute_result",
          "data": {
            "text/html": [
              "<div>\n",
              "<style scoped>\n",
              "    .dataframe tbody tr th:only-of-type {\n",
              "        vertical-align: middle;\n",
              "    }\n",
              "\n",
              "    .dataframe tbody tr th {\n",
              "        vertical-align: top;\n",
              "    }\n",
              "\n",
              "    .dataframe thead th {\n",
              "        text-align: right;\n",
              "    }\n",
              "</style>\n",
              "<table border=\"1\" class=\"dataframe\">\n",
              "  <thead>\n",
              "    <tr style=\"text-align: right;\">\n",
              "      <th></th>\n",
              "      <th>timestamp</th>\n",
              "      <th>gender</th>\n",
              "      <th>age</th>\n",
              "      <th>zodiac_sign</th>\n",
              "      <th>profession</th>\n",
              "      <th>junior_programmer_salary</th>\n",
              "      <th>senior_programmer_salary</th>\n",
              "    </tr>\n",
              "  </thead>\n",
              "  <tbody>\n",
              "    <tr>\n",
              "      <th>0</th>\n",
              "      <td>31/03/2020 17:10:01</td>\n",
              "      <td>Mujer</td>\n",
              "      <td>27</td>\n",
              "      <td>Tauro</td>\n",
              "      <td>Programadora</td>\n",
              "      <td>40000</td>\n",
              "      <td>80000</td>\n",
              "    </tr>\n",
              "    <tr>\n",
              "      <th>1</th>\n",
              "      <td>12/05/2020 15:19:14</td>\n",
              "      <td>Mujer</td>\n",
              "      <td>40</td>\n",
              "      <td>Acuario</td>\n",
              "      <td>Docente investigadora</td>\n",
              "      <td>50000</td>\n",
              "      <td>90000</td>\n",
              "    </tr>\n",
              "    <tr>\n",
              "      <th>2</th>\n",
              "      <td>13/05/2020 13:43:48</td>\n",
              "      <td>Hombre</td>\n",
              "      <td>22</td>\n",
              "      <td>Géminis</td>\n",
              "      <td>Estudiante de Astronomía</td>\n",
              "      <td>25000</td>\n",
              "      <td>60000</td>\n",
              "    </tr>\n",
              "    <tr>\n",
              "      <th>3</th>\n",
              "      <td>13/05/2020 18:12:04</td>\n",
              "      <td>Mujer</td>\n",
              "      <td>23</td>\n",
              "      <td>Cáncer</td>\n",
              "      <td>profesora</td>\n",
              "      <td>32000</td>\n",
              "      <td>50000</td>\n",
              "    </tr>\n",
              "    <tr>\n",
              "      <th>4</th>\n",
              "      <td>14/05/2020 16:30:09</td>\n",
              "      <td>Hombre</td>\n",
              "      <td>33</td>\n",
              "      <td>Capricornio</td>\n",
              "      <td>Docente investigador</td>\n",
              "      <td>60000</td>\n",
              "      <td>80000</td>\n",
              "    </tr>\n",
              "    <tr>\n",
              "      <th>...</th>\n",
              "      <td>...</td>\n",
              "      <td>...</td>\n",
              "      <td>...</td>\n",
              "      <td>...</td>\n",
              "      <td>...</td>\n",
              "      <td>...</td>\n",
              "      <td>...</td>\n",
              "    </tr>\n",
              "    <tr>\n",
              "      <th>83</th>\n",
              "      <td>15/05/2020 18:55:53</td>\n",
              "      <td>Hombre</td>\n",
              "      <td>28</td>\n",
              "      <td>Picis</td>\n",
              "      <td>Data Engineer</td>\n",
              "      <td>60000</td>\n",
              "      <td>140000</td>\n",
              "    </tr>\n",
              "    <tr>\n",
              "      <th>84</th>\n",
              "      <td>15/05/2020 19:11:15</td>\n",
              "      <td>Otro</td>\n",
              "      <td>45</td>\n",
              "      <td>Géminis</td>\n",
              "      <td>Diseño gráfico</td>\n",
              "      <td>68000</td>\n",
              "      <td>80000</td>\n",
              "    </tr>\n",
              "    <tr>\n",
              "      <th>85</th>\n",
              "      <td>15/05/2020 19:11:46</td>\n",
              "      <td>Prefiero no decirlo</td>\n",
              "      <td>9</td>\n",
              "      <td>Libra</td>\n",
              "      <td>lksadaokpoqwe</td>\n",
              "      <td>3</td>\n",
              "      <td>4</td>\n",
              "    </tr>\n",
              "    <tr>\n",
              "      <th>86</th>\n",
              "      <td>15/05/2020 20:58:25</td>\n",
              "      <td>Prefiero no decirlo</td>\n",
              "      <td>44</td>\n",
              "      <td>NaN</td>\n",
              "      <td>profesor</td>\n",
              "      <td>40000</td>\n",
              "      <td>120000</td>\n",
              "    </tr>\n",
              "    <tr>\n",
              "      <th>87</th>\n",
              "      <td>16/05/2020 19:11:32</td>\n",
              "      <td>Hombre</td>\n",
              "      <td>32</td>\n",
              "      <td>Escorpio</td>\n",
              "      <td>Programador</td>\n",
              "      <td>50000</td>\n",
              "      <td>60000</td>\n",
              "    </tr>\n",
              "  </tbody>\n",
              "</table>\n",
              "<p>88 rows × 7 columns</p>\n",
              "</div>"
            ],
            "text/plain": [
              "              timestamp  ... senior_programmer_salary\n",
              "0   31/03/2020 17:10:01  ...                    80000\n",
              "1   12/05/2020 15:19:14  ...                    90000\n",
              "2   13/05/2020 13:43:48  ...                    60000\n",
              "3   13/05/2020 18:12:04  ...                    50000\n",
              "4   14/05/2020 16:30:09  ...                    80000\n",
              "..                  ...  ...                      ...\n",
              "83  15/05/2020 18:55:53  ...                   140000\n",
              "84  15/05/2020 19:11:15  ...                    80000\n",
              "85  15/05/2020 19:11:46  ...                        4\n",
              "86  15/05/2020 20:58:25  ...                   120000\n",
              "87  16/05/2020 19:11:32  ...                    60000\n",
              "\n",
              "[88 rows x 7 columns]"
            ]
          },
          "metadata": {
            "tags": []
          },
          "execution_count": 23
        }
      ]
    },
    {
      "cell_type": "code",
      "metadata": {
        "colab_type": "code",
        "id": "dwD0SGOHlx9L",
        "outputId": "6e969c96-c19f-460a-e13c-9b0e268133b2",
        "colab": {
          "base_uri": "https://localhost:8080/",
          "height": 230
        }
      },
      "source": [
        "df.timestamp"
      ],
      "execution_count": 24,
      "outputs": [
        {
          "output_type": "execute_result",
          "data": {
            "text/plain": [
              "0     31/03/2020 17:10:01\n",
              "1     12/05/2020 15:19:14\n",
              "2     13/05/2020 13:43:48\n",
              "3     13/05/2020 18:12:04\n",
              "4     14/05/2020 16:30:09\n",
              "             ...         \n",
              "83    15/05/2020 18:55:53\n",
              "84    15/05/2020 19:11:15\n",
              "85    15/05/2020 19:11:46\n",
              "86    15/05/2020 20:58:25\n",
              "87    16/05/2020 19:11:32\n",
              "Name: timestamp, Length: 88, dtype: object"
            ]
          },
          "metadata": {
            "tags": []
          },
          "execution_count": 24
        }
      ]
    },
    {
      "cell_type": "code",
      "metadata": {
        "colab_type": "code",
        "id": "uFSpY9eSkxG5",
        "outputId": "827a4b1a-bec1-4dd3-b0a4-cbdae597c67f",
        "colab": {
          "base_uri": "https://localhost:8080/",
          "height": 230
        }
      },
      "source": [
        "df['age']"
      ],
      "execution_count": 25,
      "outputs": [
        {
          "output_type": "execute_result",
          "data": {
            "text/plain": [
              "0     27\n",
              "1     40\n",
              "2     22\n",
              "3     23\n",
              "4     33\n",
              "      ..\n",
              "83    28\n",
              "84    45\n",
              "85     9\n",
              "86    44\n",
              "87    32\n",
              "Name: age, Length: 88, dtype: int64"
            ]
          },
          "metadata": {
            "tags": []
          },
          "execution_count": 25
        }
      ]
    },
    {
      "cell_type": "code",
      "metadata": {
        "colab_type": "code",
        "id": "mTm0M0vRk1vh",
        "colab": {}
      },
      "source": [
        "## Valores medios, minimos y maximos"
      ],
      "execution_count": 0,
      "outputs": []
    },
    {
      "cell_type": "code",
      "metadata": {
        "id": "lM2v1zB8-fCV",
        "colab_type": "code",
        "outputId": "5d662986-3c5c-4d15-81db-1eb5cbd4caef",
        "colab": {
          "base_uri": "https://localhost:8080/",
          "height": 287
        }
      },
      "source": [
        "df.describe()"
      ],
      "execution_count": 27,
      "outputs": [
        {
          "output_type": "execute_result",
          "data": {
            "text/html": [
              "<div>\n",
              "<style scoped>\n",
              "    .dataframe tbody tr th:only-of-type {\n",
              "        vertical-align: middle;\n",
              "    }\n",
              "\n",
              "    .dataframe tbody tr th {\n",
              "        vertical-align: top;\n",
              "    }\n",
              "\n",
              "    .dataframe thead th {\n",
              "        text-align: right;\n",
              "    }\n",
              "</style>\n",
              "<table border=\"1\" class=\"dataframe\">\n",
              "  <thead>\n",
              "    <tr style=\"text-align: right;\">\n",
              "      <th></th>\n",
              "      <th>age</th>\n",
              "      <th>junior_programmer_salary</th>\n",
              "      <th>senior_programmer_salary</th>\n",
              "    </tr>\n",
              "  </thead>\n",
              "  <tbody>\n",
              "    <tr>\n",
              "      <th>count</th>\n",
              "      <td>88.000000</td>\n",
              "      <td>88.000000</td>\n",
              "      <td>88.000000</td>\n",
              "    </tr>\n",
              "    <tr>\n",
              "      <th>mean</th>\n",
              "      <td>33.522727</td>\n",
              "      <td>49523.500000</td>\n",
              "      <td>92342.431818</td>\n",
              "    </tr>\n",
              "    <tr>\n",
              "      <th>std</th>\n",
              "      <td>12.087780</td>\n",
              "      <td>16295.131364</td>\n",
              "      <td>95632.140156</td>\n",
              "    </tr>\n",
              "    <tr>\n",
              "      <th>min</th>\n",
              "      <td>9.000000</td>\n",
              "      <td>3.000000</td>\n",
              "      <td>4.000000</td>\n",
              "    </tr>\n",
              "    <tr>\n",
              "      <th>25%</th>\n",
              "      <td>26.000000</td>\n",
              "      <td>40000.000000</td>\n",
              "      <td>60000.000000</td>\n",
              "    </tr>\n",
              "    <tr>\n",
              "      <th>50%</th>\n",
              "      <td>30.000000</td>\n",
              "      <td>50000.000000</td>\n",
              "      <td>80000.000000</td>\n",
              "    </tr>\n",
              "    <tr>\n",
              "      <th>75%</th>\n",
              "      <td>38.000000</td>\n",
              "      <td>60000.000000</td>\n",
              "      <td>90000.000000</td>\n",
              "    </tr>\n",
              "    <tr>\n",
              "      <th>max</th>\n",
              "      <td>99.000000</td>\n",
              "      <td>100000.000000</td>\n",
              "      <td>900000.000000</td>\n",
              "    </tr>\n",
              "  </tbody>\n",
              "</table>\n",
              "</div>"
            ],
            "text/plain": [
              "             age  junior_programmer_salary  senior_programmer_salary\n",
              "count  88.000000                 88.000000                 88.000000\n",
              "mean   33.522727              49523.500000              92342.431818\n",
              "std    12.087780              16295.131364              95632.140156\n",
              "min     9.000000                  3.000000                  4.000000\n",
              "25%    26.000000              40000.000000              60000.000000\n",
              "50%    30.000000              50000.000000              80000.000000\n",
              "75%    38.000000              60000.000000              90000.000000\n",
              "max    99.000000             100000.000000             900000.000000"
            ]
          },
          "metadata": {
            "tags": []
          },
          "execution_count": 27
        }
      ]
    },
    {
      "cell_type": "code",
      "metadata": {
        "id": "bCotk7L2-fCb",
        "colab_type": "code",
        "colab": {
          "base_uri": "https://localhost:8080/",
          "height": 197
        },
        "outputId": "03db0eec-1802-4da4-d07e-4cfbbfe7bbf9"
      },
      "source": [
        "df.groupby([\"gender\"]).mean()"
      ],
      "execution_count": 31,
      "outputs": [
        {
          "output_type": "execute_result",
          "data": {
            "text/html": [
              "<div>\n",
              "<style scoped>\n",
              "    .dataframe tbody tr th:only-of-type {\n",
              "        vertical-align: middle;\n",
              "    }\n",
              "\n",
              "    .dataframe tbody tr th {\n",
              "        vertical-align: top;\n",
              "    }\n",
              "\n",
              "    .dataframe thead th {\n",
              "        text-align: right;\n",
              "    }\n",
              "</style>\n",
              "<table border=\"1\" class=\"dataframe\">\n",
              "  <thead>\n",
              "    <tr style=\"text-align: right;\">\n",
              "      <th></th>\n",
              "      <th>age</th>\n",
              "      <th>junior_programmer_salary</th>\n",
              "      <th>senior_programmer_salary</th>\n",
              "    </tr>\n",
              "    <tr>\n",
              "      <th>gender</th>\n",
              "      <th></th>\n",
              "      <th></th>\n",
              "      <th></th>\n",
              "    </tr>\n",
              "  </thead>\n",
              "  <tbody>\n",
              "    <tr>\n",
              "      <th>Hombre</th>\n",
              "      <td>33.678571</td>\n",
              "      <td>49411.875000</td>\n",
              "      <td>95020.178571</td>\n",
              "    </tr>\n",
              "    <tr>\n",
              "      <th>Mujer</th>\n",
              "      <td>33.307692</td>\n",
              "      <td>51846.153846</td>\n",
              "      <td>91730.769231</td>\n",
              "    </tr>\n",
              "    <tr>\n",
              "      <th>Otro</th>\n",
              "      <td>45.000000</td>\n",
              "      <td>68000.000000</td>\n",
              "      <td>80000.000000</td>\n",
              "    </tr>\n",
              "    <tr>\n",
              "      <th>Prefiero no decirlo</th>\n",
              "      <td>30.600000</td>\n",
              "      <td>35000.600000</td>\n",
              "      <td>68000.800000</td>\n",
              "    </tr>\n",
              "  </tbody>\n",
              "</table>\n",
              "</div>"
            ],
            "text/plain": [
              "                           age  ...  senior_programmer_salary\n",
              "gender                          ...                          \n",
              "Hombre               33.678571  ...              95020.178571\n",
              "Mujer                33.307692  ...              91730.769231\n",
              "Otro                 45.000000  ...              80000.000000\n",
              "Prefiero no decirlo  30.600000  ...              68000.800000\n",
              "\n",
              "[4 rows x 3 columns]"
            ]
          },
          "metadata": {
            "tags": []
          },
          "execution_count": 31
        }
      ]
    },
    {
      "cell_type": "code",
      "metadata": {
        "id": "chFf0dBELRem",
        "colab_type": "code",
        "colab": {}
      },
      "source": [
        ""
      ],
      "execution_count": 0,
      "outputs": []
    }
  ]
}
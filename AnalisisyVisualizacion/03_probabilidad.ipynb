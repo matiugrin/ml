{
 "cells": [
  {
   "cell_type": "markdown",
   "metadata": {
    "colab_type": "text",
    "id": "OdeS77ZRxPlx"
   },
   "source": [
    "<center>\n",
    "<h4>Universidad Nacional de Córdoba - Diplomatura en Ciencia de Datos, Aprendizaje Automático y sus Aplicaciones</h4>\n",
    "<h3> Análisis y Visualización de Datos </h3>\n",
    "</center>\n"
   ]
  },
  {
   "cell_type": "markdown",
   "metadata": {
    "colab_type": "text",
    "id": "X_mijtbJxRpU"
   },
   "source": [
    "# Distribuciones de probabilidad\n",
    "\n",
    "En esta notebook vamos a ver cómo computar distintas probabilidades y realizar distintos gráficos."
   ]
  },
  {
   "cell_type": "code",
   "execution_count": 1,
   "metadata": {
    "colab": {
     "base_uri": "https://localhost:8080/",
     "height": 91
    },
    "colab_type": "code",
    "id": "yBWTBtS8Mp1D",
    "outputId": "f261b74e-e8d6-4cd3-ae4e-8e571dd70515"
   },
   "outputs": [
    {
     "name": "stdout",
     "output_type": "stream",
     "text": [
      "0.10.1\n"
     ]
    }
   ],
   "source": [
    "import io\n",
    "import pandas\n",
    "import seaborn\n",
    "\n",
    "print(seaborn.__version__)"
   ]
  },
  {
   "cell_type": "markdown",
   "metadata": {},
   "source": [
    "Nota: la primera versión de esta notebook está ejecutada con un conjunto de datos generado artificialmente"
   ]
  },
  {
   "cell_type": "code",
   "execution_count": 3,
   "metadata": {
    "colab": {
     "base_uri": "https://localhost:8080/",
     "height": 416
    },
    "colab_type": "code",
    "id": "nDcbnarNOmYY",
    "outputId": "05c97744-301b-4ebb-9f0b-4c5d17659821"
   },
   "outputs": [
    {
     "data": {
      "text/html": [
       "<div>\n",
       "<style scoped>\n",
       "    .dataframe tbody tr th:only-of-type {\n",
       "        vertical-align: middle;\n",
       "    }\n",
       "\n",
       "    .dataframe tbody tr th {\n",
       "        vertical-align: top;\n",
       "    }\n",
       "\n",
       "    .dataframe thead th {\n",
       "        text-align: right;\n",
       "    }\n",
       "</style>\n",
       "<table border=\"1\" class=\"dataframe\">\n",
       "  <thead>\n",
       "    <tr style=\"text-align: right;\">\n",
       "      <th></th>\n",
       "      <th>timestamp</th>\n",
       "      <th>gender</th>\n",
       "      <th>age</th>\n",
       "      <th>zodiac_sign</th>\n",
       "      <th>profession</th>\n",
       "      <th>junior_programmer_salary</th>\n",
       "      <th>senior_programmer_salary</th>\n",
       "    </tr>\n",
       "  </thead>\n",
       "  <tbody>\n",
       "    <tr>\n",
       "      <th>0</th>\n",
       "      <td>31/03/2020 17:10:01</td>\n",
       "      <td>Mujer</td>\n",
       "      <td>27</td>\n",
       "      <td>Tauro</td>\n",
       "      <td>Programadora</td>\n",
       "      <td>40000</td>\n",
       "      <td>80000</td>\n",
       "    </tr>\n",
       "    <tr>\n",
       "      <th>1</th>\n",
       "      <td>12/05/2020 15:19:14</td>\n",
       "      <td>Mujer</td>\n",
       "      <td>40</td>\n",
       "      <td>Acuario</td>\n",
       "      <td>Docente investigadora</td>\n",
       "      <td>50000</td>\n",
       "      <td>90000</td>\n",
       "    </tr>\n",
       "    <tr>\n",
       "      <th>2</th>\n",
       "      <td>13/05/2020 13:43:48</td>\n",
       "      <td>Hombre</td>\n",
       "      <td>22</td>\n",
       "      <td>Géminis</td>\n",
       "      <td>Estudiante de Astronomía</td>\n",
       "      <td>25000</td>\n",
       "      <td>60000</td>\n",
       "    </tr>\n",
       "    <tr>\n",
       "      <th>3</th>\n",
       "      <td>13/05/2020 18:12:04</td>\n",
       "      <td>Mujer</td>\n",
       "      <td>23</td>\n",
       "      <td>Cáncer</td>\n",
       "      <td>profesora</td>\n",
       "      <td>32000</td>\n",
       "      <td>50000</td>\n",
       "    </tr>\n",
       "    <tr>\n",
       "      <th>4</th>\n",
       "      <td>14/05/2020 16:30:09</td>\n",
       "      <td>Hombre</td>\n",
       "      <td>33</td>\n",
       "      <td>Capricornio</td>\n",
       "      <td>Docente investigador</td>\n",
       "      <td>60000</td>\n",
       "      <td>80000</td>\n",
       "    </tr>\n",
       "    <tr>\n",
       "      <th>...</th>\n",
       "      <td>...</td>\n",
       "      <td>...</td>\n",
       "      <td>...</td>\n",
       "      <td>...</td>\n",
       "      <td>...</td>\n",
       "      <td>...</td>\n",
       "      <td>...</td>\n",
       "    </tr>\n",
       "    <tr>\n",
       "      <th>83</th>\n",
       "      <td>15/05/2020 18:55:53</td>\n",
       "      <td>Hombre</td>\n",
       "      <td>28</td>\n",
       "      <td>Picis</td>\n",
       "      <td>Data Engineer</td>\n",
       "      <td>60000</td>\n",
       "      <td>140000</td>\n",
       "    </tr>\n",
       "    <tr>\n",
       "      <th>84</th>\n",
       "      <td>15/05/2020 19:11:15</td>\n",
       "      <td>Otro</td>\n",
       "      <td>45</td>\n",
       "      <td>Géminis</td>\n",
       "      <td>Diseño gráfico</td>\n",
       "      <td>68000</td>\n",
       "      <td>80000</td>\n",
       "    </tr>\n",
       "    <tr>\n",
       "      <th>85</th>\n",
       "      <td>15/05/2020 19:11:46</td>\n",
       "      <td>Prefiero no decirlo</td>\n",
       "      <td>9</td>\n",
       "      <td>Libra</td>\n",
       "      <td>lksadaokpoqwe</td>\n",
       "      <td>3</td>\n",
       "      <td>4</td>\n",
       "    </tr>\n",
       "    <tr>\n",
       "      <th>86</th>\n",
       "      <td>15/05/2020 20:58:25</td>\n",
       "      <td>Prefiero no decirlo</td>\n",
       "      <td>44</td>\n",
       "      <td>NaN</td>\n",
       "      <td>profesor</td>\n",
       "      <td>40000</td>\n",
       "      <td>120000</td>\n",
       "    </tr>\n",
       "    <tr>\n",
       "      <th>87</th>\n",
       "      <td>16/05/2020 19:11:32</td>\n",
       "      <td>Hombre</td>\n",
       "      <td>32</td>\n",
       "      <td>Escorpio</td>\n",
       "      <td>Programador</td>\n",
       "      <td>50000</td>\n",
       "      <td>60000</td>\n",
       "    </tr>\n",
       "  </tbody>\n",
       "</table>\n",
       "<p>88 rows × 7 columns</p>\n",
       "</div>"
      ],
      "text/plain": [
       "              timestamp               gender  age  zodiac_sign  \\\n",
       "0   31/03/2020 17:10:01                Mujer   27        Tauro   \n",
       "1   12/05/2020 15:19:14                Mujer   40      Acuario   \n",
       "2   13/05/2020 13:43:48               Hombre   22      Géminis   \n",
       "3   13/05/2020 18:12:04                Mujer   23       Cáncer   \n",
       "4   14/05/2020 16:30:09               Hombre   33  Capricornio   \n",
       "..                  ...                  ...  ...          ...   \n",
       "83  15/05/2020 18:55:53               Hombre   28        Picis   \n",
       "84  15/05/2020 19:11:15                 Otro   45      Géminis   \n",
       "85  15/05/2020 19:11:46  Prefiero no decirlo    9        Libra   \n",
       "86  15/05/2020 20:58:25  Prefiero no decirlo   44          NaN   \n",
       "87  16/05/2020 19:11:32               Hombre   32     Escorpio   \n",
       "\n",
       "                  profession  junior_programmer_salary  \\\n",
       "0               Programadora                     40000   \n",
       "1      Docente investigadora                     50000   \n",
       "2   Estudiante de Astronomía                     25000   \n",
       "3                  profesora                     32000   \n",
       "4       Docente investigador                     60000   \n",
       "..                       ...                       ...   \n",
       "83             Data Engineer                     60000   \n",
       "84            Diseño gráfico                     68000   \n",
       "85             lksadaokpoqwe                         3   \n",
       "86                  profesor                     40000   \n",
       "87               Programador                     50000   \n",
       "\n",
       "    senior_programmer_salary  \n",
       "0                      80000  \n",
       "1                      90000  \n",
       "2                      60000  \n",
       "3                      50000  \n",
       "4                      80000  \n",
       "..                       ...  \n",
       "83                    140000  \n",
       "84                     80000  \n",
       "85                         4  \n",
       "86                    120000  \n",
       "87                     60000  \n",
       "\n",
       "[88 rows x 7 columns]"
      ]
     },
     "execution_count": 3,
     "metadata": {},
     "output_type": "execute_result"
    }
   ],
   "source": [
    "# df = pandas.read_csv('~/Downloads/generated_dataset.csv')\n",
    "df = pandas.read_csv('datos/Dataset AyVD 2020 (respuestas) - Respuestas de formulario 1.csv')\n",
    "df.columns = ['timestamp', 'gender', 'age', 'zodiac_sign', 'profession',\n",
    "              'junior_programmer_salary', 'senior_programmer_salary']\n",
    "df"
   ]
  },
  {
   "cell_type": "markdown",
   "metadata": {
    "colab_type": "text",
    "id": "5o4INtyGSTxJ"
   },
   "source": [
    "## Probabilidad\n",
    "\n",
    "Antes de hablar de probabilidad condicional entre dos variables, tenemos que encontrar un método para calcular la probabilidad de cada evento por separado. En el teórico vimos que si cada una de nuestros eventos es independiente e idénticamente distribuido, es decir, que $P(\\{a_i\\})=1/k$, entonces la probabilidad de un conjunto $A \\subset \\Omega$ es la proporción de $A$.\n",
    "\n",
    "$$P(\\{a_i\\})=1/k \\implies P(A)=|A|/|\\Omega|=|A|/k$$\n",
    "\n",
    "Calculemos entonces la probabilidad del evento *gender=Mujer*. Nuestro $\\Omega$ son todas las respuestas del dataset, cada $a_i$ es una variable que representa una respuesta, y el conjunto $A$ son las respuestas en la que la columna gender tiene el valor \"Mujer\". \n"
   ]
  },
  {
   "cell_type": "code",
   "execution_count": 7,
   "metadata": {
    "colab": {
     "base_uri": "https://localhost:8080/",
     "height": 35
    },
    "colab_type": "code",
    "id": "D4HILmylmAO6",
    "outputId": "aa07f9b8-98ff-4779-9b26-f89c4c11bf93"
   },
   "outputs": [
    {
     "data": {
      "text/plain": [
       "0.29545454545454547"
      ]
     },
     "execution_count": 7,
     "metadata": {},
     "output_type": "execute_result"
    }
   ],
   "source": [
    "p_mujer = len(df[df.gender == 'Mujer']) / len(df)\n",
    "p_mujer"
   ]
  },
  {
   "cell_type": "code",
   "execution_count": 57,
   "metadata": {},
   "outputs": [
    {
     "data": {
      "text/plain": [
       "15"
      ]
     },
     "execution_count": 57,
     "metadata": {},
     "output_type": "execute_result"
    }
   ],
   "source": [
    "c_libra = len(df[df.zodiac_sign == 'Libra'])\n",
    "c_libra"
   ]
  },
  {
   "cell_type": "code",
   "execution_count": 12,
   "metadata": {},
   "outputs": [
    {
     "data": {
      "text/plain": [
       "0.3181818181818182"
      ]
     },
     "execution_count": 12,
     "metadata": {},
     "output_type": "execute_result"
    }
   ],
   "source": [
    "p_edad = len(df[df.age > 35]) / len(df)\n",
    "p_edad"
   ]
  },
  {
   "cell_type": "markdown",
   "metadata": {
    "colab_type": "text",
    "id": "ZZdCDEUIhfUV"
   },
   "source": [
    "### Graficar la frecuencia y la probabilidad\n",
    "\n",
    "Podemos comparar visualmente la frecuencia de distintos conjuntos de datos de manera muy fácil. Con esto también veremos el primer tipo de gráficos: el *gráfico de barras*.\n",
    "\n",
    "Elegimos este tipo de gráfico porque nos permite representar cantidades numéricas, en este caso la frecuencia o la probabilidad, correspondientes a distintos valores categóricos, por ejemplo el género.\n",
    "\n",
    "Este gráfico es tan útil, que Seaborn, la librería para visualizaciones que usaremos, trae un método que cuenta los distintos valores posibles por nosotros. "
   ]
  },
  {
   "cell_type": "code",
   "execution_count": 18,
   "metadata": {
    "colab": {
     "base_uri": "https://localhost:8080/",
     "height": 296
    },
    "colab_type": "code",
    "id": "PvLy-FCvh28S",
    "outputId": "061b43e7-922e-43aa-9ca2-6d95d1ed24ac"
   },
   "outputs": [
    {
     "data": {
      "text/plain": [
       "<matplotlib.axes._subplots.AxesSubplot at 0x125d46d00>"
      ]
     },
     "execution_count": 18,
     "metadata": {},
     "output_type": "execute_result"
    },
    {
     "data": {
      "image/png": "[encoded data removed]",
      "text/plain": [
       "<Figure size 432x288 with 1 Axes>"
      ]
     },
     "metadata": {
      "needs_background": "light"
     },
     "output_type": "display_data"
    }
   ],
   "source": [
    "import seaborn\n",
    "import matplotlib.pyplot as plt\n",
    "\n",
    "seaborn.countplot(df.gender, color='steelblue')"
   ]
  },
  {
   "cell_type": "markdown",
   "metadata": {
    "colab_type": "text",
    "id": "07APHg9sjFy-"
   },
   "source": [
    "Para calcular la probabilidad en lugar de la frecuencia de todos las respuestas posbiles para cada columna de una forma más sencilla con la operación *value_counts* de pandas."
   ]
  },
  {
   "cell_type": "code",
   "execution_count": 54,
   "metadata": {
    "colab": {
     "base_uri": "https://localhost:8080/",
     "height": 141
    },
    "colab_type": "code",
    "id": "zppn0N5lko9P",
    "outputId": "7f64d6d6-4593-4e63-d1b2-ffbd0fa46f80"
   },
   "outputs": [
    {
     "data": {
      "text/html": [
       "<div>\n",
       "<style scoped>\n",
       "    .dataframe tbody tr th:only-of-type {\n",
       "        vertical-align: middle;\n",
       "    }\n",
       "\n",
       "    .dataframe tbody tr th {\n",
       "        vertical-align: top;\n",
       "    }\n",
       "\n",
       "    .dataframe thead th {\n",
       "        text-align: right;\n",
       "    }\n",
       "</style>\n",
       "<table border=\"1\" class=\"dataframe\">\n",
       "  <thead>\n",
       "    <tr style=\"text-align: right;\">\n",
       "      <th></th>\n",
       "      <th>index</th>\n",
       "      <th>gender</th>\n",
       "    </tr>\n",
       "  </thead>\n",
       "  <tbody>\n",
       "    <tr>\n",
       "      <th>0</th>\n",
       "      <td>Hombre</td>\n",
       "      <td>0.636364</td>\n",
       "    </tr>\n",
       "    <tr>\n",
       "      <th>1</th>\n",
       "      <td>Mujer</td>\n",
       "      <td>0.295455</td>\n",
       "    </tr>\n",
       "    <tr>\n",
       "      <th>2</th>\n",
       "      <td>Prefiero no decirlo</td>\n",
       "      <td>0.056818</td>\n",
       "    </tr>\n",
       "    <tr>\n",
       "      <th>3</th>\n",
       "      <td>Otro</td>\n",
       "      <td>0.011364</td>\n",
       "    </tr>\n",
       "  </tbody>\n",
       "</table>\n",
       "</div>"
      ],
      "text/plain": [
       "                 index    gender\n",
       "0               Hombre  0.636364\n",
       "1                Mujer  0.295455\n",
       "2  Prefiero no decirlo  0.056818\n",
       "3                 Otro  0.011364"
      ]
     },
     "execution_count": 54,
     "metadata": {},
     "output_type": "execute_result"
    }
   ],
   "source": [
    "data = df['gender'].value_counts(normalize=True).reset_index()\n",
    "data"
   ]
  },
  {
   "cell_type": "code",
   "execution_count": 24,
   "metadata": {
    "colab": {
     "base_uri": "https://localhost:8080/",
     "height": 296
    },
    "colab_type": "code",
    "id": "SprWt7qjjhnG",
    "outputId": "1ce55c12-14a0-4cf3-81b2-ff358177d7f4"
   },
   "outputs": [
    {
     "data": {
      "text/plain": [
       "Text(0, 0.5, 'Probability')"
      ]
     },
     "execution_count": 24,
     "metadata": {},
     "output_type": "execute_result"
    },
    {
     "data": {
      "image/png": "[encoded data removed]",
      "text/plain": [
       "<Figure size 432x288 with 1 Axes>"
      ]
     },
     "metadata": {
      "needs_background": "light"
     },
     "output_type": "display_data"
    }
   ],
   "source": [
    "seaborn.barplot(data=data, x='index', y='gender', color='steelblue')\n",
    "plt.xlabel(\"Gender\")  # Rename the labels on the side of the axis\n",
    "plt.ylabel(\"Probability\")"
   ]
  },
  {
   "cell_type": "markdown",
   "metadata": {
    "colab_type": "text",
    "id": "2IbCS52afTe0"
   },
   "source": [
    "## Probabilidad condicional\n",
    "\n",
    "Ahora podemos pasar a hablar de la probabilidad condicional. La definimos como\n",
    "\n",
    "$$P(A|B) = \\frac{P(A \\cap B)}{P(B)}$$\n",
    "\n",
    "Esto es equivalente a:\n",
    "\n",
    "$$P(A|B) = \\frac{|A \\cap B|}{|B|}$$\n",
    "\n",
    "## Ejercicio 1\n",
    "\n",
    "Calcular la probabilidad de que una respuesta tenga *gender=Mujer* dado que sabemos que tiene *zodiac_sign=Aries*"
   ]
  },
  {
   "cell_type": "code",
   "execution_count": 89,
   "metadata": {
    "colab": {
     "base_uri": "https://localhost:8080/",
     "height": 35
    },
    "colab_type": "code",
    "id": "hhStGXpZfQUO",
    "outputId": "cd580ba9-46b7-492d-ab86-c5523d7e297d"
   },
   "outputs": [
    {
     "name": "stdout",
     "output_type": "stream",
     "text": [
      "3 / 88\n",
      "0.03409090909090909\n",
      "0.09090909090909091\n",
      "8\n",
      "0.37499999999999994\n"
     ]
    }
   ],
   "source": [
    "count_mujer_and_aries = len(df[(df.gender == 'Mujer') & (df.zodiac_sign == 'Aries')])\n",
    "p_mujer_aries = count_mujer_and_aries / len(df)\n",
    "## TODO completar acá\n",
    "print(count_mujer_and_aries, '/', len(df))\n",
    "\n",
    "#P(AyB)\n",
    "print(p_mujer_aries)\n",
    "\n",
    "# P(B)\n",
    "p_aries = len(df[(df.zodiac_sign == 'Aries')]) / len(df)\n",
    "print(p_aries)\n",
    "\n",
    "print(len(df[df.zodiac_sign == 'Aries']))\n",
    "#P(A\\B)\n",
    "print(p_mujer_aries / p_aries)"
   ]
  },
  {
   "cell_type": "markdown",
   "metadata": {
    "colab_type": "text",
    "id": "z1syR25xgdLO"
   },
   "source": [
    "## Independecia\n",
    "\n",
    "Ahora, para saber si dos conjuntos son independientes, tenemos que comprobar si $P(A|B) = P(A)$ ó $P(A\\cap B) = P(A)*P(B)$.\n",
    "\n",
    "## Ejercicio 2\n",
    "\n",
    "Calcular si los conjuntos de respuestas con *gender=Mujer* y *zodiac_sign=Aries* son independientes o no, utilizando ambos métodos.\n",
    "\n"
   ]
  },
  {
   "cell_type": "code",
   "execution_count": 90,
   "metadata": {
    "colab": {
     "base_uri": "https://localhost:8080/",
     "height": 35
    },
    "colab_type": "code",
    "id": "-Wfg2p78PN_-",
    "outputId": "195d7e8a-868d-4a75-f5ac-9bcbeb726314"
   },
   "outputs": [
    {
     "name": "stdout",
     "output_type": "stream",
     "text": [
      "0.29545454545454547\n",
      "0.09090909090909091\n",
      "0.03409090909090909\n",
      "0.026859504132231406\n",
      "No son independientes\n"
     ]
    }
   ],
   "source": [
    "# P(A)\n",
    "p_mujer = len(df[df.gender == 'Mujer']) / len(df)\n",
    "print(p_mujer)\n",
    "\n",
    "#P(B)\n",
    "print(p_aries)\n",
    "\n",
    "#P(AyB)\n",
    "print(p_mujer_aries)\n",
    "print(p_mujer*p_aries)\n",
    "\n",
    "if ( (p_mujer*p_aries) != p_mujer_aries ):\n",
    "    print(\"No son independientes\")"
   ]
  },
  {
   "cell_type": "code",
   "execution_count": null,
   "metadata": {},
   "outputs": [],
   "source": []
  }
 ],
 "metadata": {
  "colab": {
   "name": "03_probabilidad.ipynb",
   "provenance": []
  },
  "kernelspec": {
   "display_name": "Python 3",
   "language": "python",
   "name": "python3"
  },
  "language_info": {
   "codemirror_mode": {
    "name": "ipython",
    "version": 3
   },
   "file_extension": ".py",
   "mimetype": "text/x-python",
   "name": "python",
   "nbconvert_exporter": "python",
   "pygments_lexer": "ipython3",
   "version": "3.8.2"
  }
 },
 "nbformat": 4,
 "nbformat_minor": 4
}

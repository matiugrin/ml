{
  "nbformat": 4,
  "nbformat_minor": 0,
  "metadata": {
    "colab": {
      "name": "03_probabilidad.ipynb",
      "provenance": []
    },
    "kernelspec": {
      "display_name": "Python 3",
      "language": "python",
      "name": "python3"
    },
    "language_info": {
      "codemirror_mode": {
        "name": "ipython",
        "version": 3
      },
      "file_extension": ".py",
      "mimetype": "text/x-python",
      "name": "python",
      "nbconvert_exporter": "python",
      "pygments_lexer": "ipython3",
      "version": "3.8.2"
    }
  },
  "cells": [
    {
      "cell_type": "markdown",
      "metadata": {
        "colab_type": "text",
        "id": "OdeS77ZRxPlx"
      },
      "source": [
        "<center>\n",
        "<h4>Universidad Nacional de Córdoba - Diplomatura en Ciencia de Datos, Aprendizaje Automático y sus Aplicaciones</h4>\n",
        "<h3> Análisis y Visualización de Datos </h3>\n",
        "</center>\n"
      ]
    },
    {
      "cell_type": "markdown",
      "metadata": {
        "colab_type": "text",
        "id": "X_mijtbJxRpU"
      },
      "source": [
        "# Distribuciones de probabilidad\n",
        "\n",
        "En esta notebook vamos a ver cómo computar distintas probabilidades y realizar distintos gráficos."
      ]
    },
    {
      "cell_type": "code",
      "metadata": {
        "colab_type": "code",
        "id": "yBWTBtS8Mp1D",
        "outputId": "69d39268-27a0-4b26-e049-4a1a6a94f32e",
        "colab": {
          "base_uri": "https://localhost:8080/",
          "height": 34
        }
      },
      "source": [
        "import io\n",
        "import pandas\n",
        "import seaborn\n",
        "\n",
        "print(seaborn.__version__)"
      ],
      "execution_count": 8,
      "outputs": [
        {
          "output_type": "stream",
          "text": [
            "0.10.1\n"
          ],
          "name": "stdout"
        }
      ]
    },
    {
      "cell_type": "code",
      "metadata": {
        "id": "8UTfX0TCKKj5",
        "colab_type": "code",
        "colab": {
          "base_uri": "https://localhost:8080/",
          "height": 34
        },
        "outputId": "03e8e801-b27c-48c6-ab7c-f51ede0d4a2b"
      },
      "source": [
        "! git clone https://github.com/porlan49/ml"
      ],
      "execution_count": 9,
      "outputs": [
        {
          "output_type": "stream",
          "text": [
            "fatal: destination path 'ml' already exists and is not an empty directory.\n"
          ],
          "name": "stdout"
        }
      ]
    },
    {
      "cell_type": "markdown",
      "metadata": {
        "id": "tB9GNce-KGQV",
        "colab_type": "text"
      },
      "source": [
        "Nota: la primera versión de esta notebook está ejecutada con un conjunto de datos generado artificialmente"
      ]
    },
    {
      "cell_type": "code",
      "metadata": {
        "colab_type": "code",
        "id": "nDcbnarNOmYY",
        "outputId": "7dd4370d-6386-489f-90ca-6dbc2a7d277a",
        "colab": {
          "base_uri": "https://localhost:8080/",
          "height": 419
        }
      },
      "source": [
        "# df = pandas.read_csv('~/Downloads/generated_dataset.csv')\n",
        "df = pandas.read_csv('ml/Dataset AyVD 2020 (respuestas) - Respuestas de formulario 1.csv')\n",
        "df.columns = ['timestamp', 'gender', 'age', 'zodiac_sign', 'profession',\n",
        "              'junior_programmer_salary', 'senior_programmer_salary']\n",
        "df"
      ],
      "execution_count": 10,
      "outputs": [
        {
          "output_type": "execute_result",
          "data": {
            "text/html": [
              "<div>\n",
              "<style scoped>\n",
              "    .dataframe tbody tr th:only-of-type {\n",
              "        vertical-align: middle;\n",
              "    }\n",
              "\n",
              "    .dataframe tbody tr th {\n",
              "        vertical-align: top;\n",
              "    }\n",
              "\n",
              "    .dataframe thead th {\n",
              "        text-align: right;\n",
              "    }\n",
              "</style>\n",
              "<table border=\"1\" class=\"dataframe\">\n",
              "  <thead>\n",
              "    <tr style=\"text-align: right;\">\n",
              "      <th></th>\n",
              "      <th>timestamp</th>\n",
              "      <th>gender</th>\n",
              "      <th>age</th>\n",
              "      <th>zodiac_sign</th>\n",
              "      <th>profession</th>\n",
              "      <th>junior_programmer_salary</th>\n",
              "      <th>senior_programmer_salary</th>\n",
              "    </tr>\n",
              "  </thead>\n",
              "  <tbody>\n",
              "    <tr>\n",
              "      <th>0</th>\n",
              "      <td>31/03/2020 17:10:01</td>\n",
              "      <td>Mujer</td>\n",
              "      <td>27</td>\n",
              "      <td>Tauro</td>\n",
              "      <td>Programadora</td>\n",
              "      <td>40000</td>\n",
              "      <td>80000</td>\n",
              "    </tr>\n",
              "    <tr>\n",
              "      <th>1</th>\n",
              "      <td>12/05/2020 15:19:14</td>\n",
              "      <td>Mujer</td>\n",
              "      <td>40</td>\n",
              "      <td>Acuario</td>\n",
              "      <td>Docente investigadora</td>\n",
              "      <td>50000</td>\n",
              "      <td>90000</td>\n",
              "    </tr>\n",
              "    <tr>\n",
              "      <th>2</th>\n",
              "      <td>13/05/2020 13:43:48</td>\n",
              "      <td>Hombre</td>\n",
              "      <td>22</td>\n",
              "      <td>Géminis</td>\n",
              "      <td>Estudiante de Astronomía</td>\n",
              "      <td>25000</td>\n",
              "      <td>60000</td>\n",
              "    </tr>\n",
              "    <tr>\n",
              "      <th>3</th>\n",
              "      <td>13/05/2020 18:12:04</td>\n",
              "      <td>Mujer</td>\n",
              "      <td>23</td>\n",
              "      <td>Cáncer</td>\n",
              "      <td>profesora</td>\n",
              "      <td>32000</td>\n",
              "      <td>50000</td>\n",
              "    </tr>\n",
              "    <tr>\n",
              "      <th>4</th>\n",
              "      <td>14/05/2020 16:30:09</td>\n",
              "      <td>Hombre</td>\n",
              "      <td>33</td>\n",
              "      <td>Capricornio</td>\n",
              "      <td>Docente investigador</td>\n",
              "      <td>60000</td>\n",
              "      <td>80000</td>\n",
              "    </tr>\n",
              "    <tr>\n",
              "      <th>...</th>\n",
              "      <td>...</td>\n",
              "      <td>...</td>\n",
              "      <td>...</td>\n",
              "      <td>...</td>\n",
              "      <td>...</td>\n",
              "      <td>...</td>\n",
              "      <td>...</td>\n",
              "    </tr>\n",
              "    <tr>\n",
              "      <th>101</th>\n",
              "      <td>21/05/2020 20:16:52</td>\n",
              "      <td>Otro</td>\n",
              "      <td>33</td>\n",
              "      <td>Acuario</td>\n",
              "      <td>Programador</td>\n",
              "      <td>50000</td>\n",
              "      <td>80000</td>\n",
              "    </tr>\n",
              "    <tr>\n",
              "      <th>102</th>\n",
              "      <td>21/05/2020 21:27:47</td>\n",
              "      <td>Hombre</td>\n",
              "      <td>26</td>\n",
              "      <td>Capricornio</td>\n",
              "      <td>Estudiante</td>\n",
              "      <td>40000</td>\n",
              "      <td>70000</td>\n",
              "    </tr>\n",
              "    <tr>\n",
              "      <th>103</th>\n",
              "      <td>21/05/2020 21:51:08</td>\n",
              "      <td>Hombre</td>\n",
              "      <td>32</td>\n",
              "      <td>Leo</td>\n",
              "      <td>Estudiante de doctorado</td>\n",
              "      <td>50000</td>\n",
              "      <td>75000</td>\n",
              "    </tr>\n",
              "    <tr>\n",
              "      <th>104</th>\n",
              "      <td>21/05/2020 23:46:16</td>\n",
              "      <td>Hombre</td>\n",
              "      <td>26</td>\n",
              "      <td>Géminis</td>\n",
              "      <td>Ingeniero Agronomo</td>\n",
              "      <td>30000</td>\n",
              "      <td>70000</td>\n",
              "    </tr>\n",
              "    <tr>\n",
              "      <th>105</th>\n",
              "      <td>22/05/2020 2:54:01</td>\n",
              "      <td>Mujer</td>\n",
              "      <td>38</td>\n",
              "      <td>Acuario</td>\n",
              "      <td>Profesor</td>\n",
              "      <td>40000</td>\n",
              "      <td>60000</td>\n",
              "    </tr>\n",
              "  </tbody>\n",
              "</table>\n",
              "<p>106 rows × 7 columns</p>\n",
              "</div>"
            ],
            "text/plain": [
              "               timestamp  ... senior_programmer_salary\n",
              "0    31/03/2020 17:10:01  ...                    80000\n",
              "1    12/05/2020 15:19:14  ...                    90000\n",
              "2    13/05/2020 13:43:48  ...                    60000\n",
              "3    13/05/2020 18:12:04  ...                    50000\n",
              "4    14/05/2020 16:30:09  ...                    80000\n",
              "..                   ...  ...                      ...\n",
              "101  21/05/2020 20:16:52  ...                    80000\n",
              "102  21/05/2020 21:27:47  ...                    70000\n",
              "103  21/05/2020 21:51:08  ...                    75000\n",
              "104  21/05/2020 23:46:16  ...                    70000\n",
              "105   22/05/2020 2:54:01  ...                    60000\n",
              "\n",
              "[106 rows x 7 columns]"
            ]
          },
          "metadata": {
            "tags": []
          },
          "execution_count": 10
        }
      ]
    },
    {
      "cell_type": "markdown",
      "metadata": {
        "colab_type": "text",
        "id": "5o4INtyGSTxJ"
      },
      "source": [
        "## Probabilidad\n",
        "\n",
        "Antes de hablar de probabilidad condicional entre dos variables, tenemos que encontrar un método para calcular la probabilidad de cada evento por separado. En el teórico vimos que si cada una de nuestros eventos es independiente e idénticamente distribuido, es decir, que $P(\\{a_i\\})=1/k$, entonces la probabilidad de un conjunto $A \\subset \\Omega$ es la proporción de $A$.\n",
        "\n",
        "$$P(\\{a_i\\})=1/k \\implies P(A)=|A|/|\\Omega|=|A|/k$$\n",
        "\n",
        "Calculemos entonces la probabilidad del evento *gender=Mujer*. Nuestro $\\Omega$ son todas las respuestas del dataset, cada $a_i$ es una variable que representa una respuesta, y el conjunto $A$ son las respuestas en la que la columna gender tiene el valor \"Mujer\". \n"
      ]
    },
    {
      "cell_type": "code",
      "metadata": {
        "colab_type": "code",
        "id": "D4HILmylmAO6",
        "outputId": "80a75a37-749c-4970-e59f-615a0b900979",
        "colab": {
          "base_uri": "https://localhost:8080/",
          "height": 34
        }
      },
      "source": [
        "p_mujer = len(df[df.gender == 'Mujer']) / len(df)\n",
        "p_mujer"
      ],
      "execution_count": 11,
      "outputs": [
        {
          "output_type": "execute_result",
          "data": {
            "text/plain": [
              "0.3018867924528302"
            ]
          },
          "metadata": {
            "tags": []
          },
          "execution_count": 11
        }
      ]
    },
    {
      "cell_type": "code",
      "metadata": {
        "id": "4ATVpnlRKGQf",
        "colab_type": "code",
        "colab": {
          "base_uri": "https://localhost:8080/",
          "height": 34
        },
        "outputId": "f6db8793-bed7-45c4-a441-7d1ed12427dd"
      },
      "source": [
        "c_libra = len(df[df.zodiac_sign == 'Libra'])\n",
        "c_libra"
      ],
      "execution_count": 12,
      "outputs": [
        {
          "output_type": "execute_result",
          "data": {
            "text/plain": [
              "15"
            ]
          },
          "metadata": {
            "tags": []
          },
          "execution_count": 12
        }
      ]
    },
    {
      "cell_type": "code",
      "metadata": {
        "id": "N_LaBJDEKGQl",
        "colab_type": "code",
        "colab": {
          "base_uri": "https://localhost:8080/",
          "height": 34
        },
        "outputId": "02cdb9e1-21a3-4d74-8d0b-f4a88c055008"
      },
      "source": [
        "p_edad = len(df[df.age > 35]) / len(df)\n",
        "p_edad"
      ],
      "execution_count": 13,
      "outputs": [
        {
          "output_type": "execute_result",
          "data": {
            "text/plain": [
              "0.330188679245283"
            ]
          },
          "metadata": {
            "tags": []
          },
          "execution_count": 13
        }
      ]
    },
    {
      "cell_type": "markdown",
      "metadata": {
        "colab_type": "text",
        "id": "ZZdCDEUIhfUV"
      },
      "source": [
        "### Graficar la frecuencia y la probabilidad\n",
        "\n",
        "Podemos comparar visualmente la frecuencia de distintos conjuntos de datos de manera muy fácil. Con esto también veremos el primer tipo de gráficos: el *gráfico de barras*.\n",
        "\n",
        "Elegimos este tipo de gráfico porque nos permite representar cantidades numéricas, en este caso la frecuencia o la probabilidad, correspondientes a distintos valores categóricos, por ejemplo el género.\n",
        "\n",
        "Este gráfico es tan útil, que Seaborn, la librería para visualizaciones que usaremos, trae un método que cuenta los distintos valores posibles por nosotros. "
      ]
    },
    {
      "cell_type": "code",
      "metadata": {
        "colab_type": "code",
        "id": "PvLy-FCvh28S",
        "outputId": "aca3e43d-c83b-4768-d86f-2013fdc481e3",
        "colab": {
          "base_uri": "https://localhost:8080/",
          "height": 299
        }
      },
      "source": [
        "import seaborn\n",
        "import matplotlib.pyplot as plt\n",
        "\n",
        "seaborn.countplot(df.gender, color='steelblue')"
      ],
      "execution_count": 14,
      "outputs": [
        {
          "output_type": "execute_result",
          "data": {
            "text/plain": [
              "<matplotlib.axes._subplots.AxesSubplot at 0x7f9f9852d4e0>"
            ]
          },
          "metadata": {
            "tags": []
          },
          "execution_count": 14
        },
        {
          "output_type": "display_data",
          "data": {
            "image/png": "[encoded data removed]",
            "text/plain": [
              "<Figure size 432x288 with 1 Axes>"
            ]
          },
          "metadata": {
            "tags": [],
            "needs_background": "light"
          }
        }
      ]
    },
    {
      "cell_type": "markdown",
      "metadata": {
        "colab_type": "text",
        "id": "07APHg9sjFy-"
      },
      "source": [
        "Para calcular la probabilidad en lugar de la frecuencia de todos las respuestas posbiles para cada columna de una forma más sencilla con la operación *value_counts* de pandas."
      ]
    },
    {
      "cell_type": "code",
      "metadata": {
        "colab_type": "code",
        "id": "zppn0N5lko9P",
        "outputId": "84f721a5-d8f9-4303-ed1b-ea249f32216c",
        "colab": {
          "base_uri": "https://localhost:8080/",
          "height": 173
        }
      },
      "source": [
        "data = df['gender'].value_counts(normalize=True).reset_index()\n",
        "data"
      ],
      "execution_count": 15,
      "outputs": [
        {
          "output_type": "execute_result",
          "data": {
            "text/html": [
              "<div>\n",
              "<style scoped>\n",
              "    .dataframe tbody tr th:only-of-type {\n",
              "        vertical-align: middle;\n",
              "    }\n",
              "\n",
              "    .dataframe tbody tr th {\n",
              "        vertical-align: top;\n",
              "    }\n",
              "\n",
              "    .dataframe thead th {\n",
              "        text-align: right;\n",
              "    }\n",
              "</style>\n",
              "<table border=\"1\" class=\"dataframe\">\n",
              "  <thead>\n",
              "    <tr style=\"text-align: right;\">\n",
              "      <th></th>\n",
              "      <th>index</th>\n",
              "      <th>gender</th>\n",
              "    </tr>\n",
              "  </thead>\n",
              "  <tbody>\n",
              "    <tr>\n",
              "      <th>0</th>\n",
              "      <td>Hombre</td>\n",
              "      <td>0.632075</td>\n",
              "    </tr>\n",
              "    <tr>\n",
              "      <th>1</th>\n",
              "      <td>Mujer</td>\n",
              "      <td>0.301887</td>\n",
              "    </tr>\n",
              "    <tr>\n",
              "      <th>2</th>\n",
              "      <td>Prefiero no decirlo</td>\n",
              "      <td>0.047170</td>\n",
              "    </tr>\n",
              "    <tr>\n",
              "      <th>3</th>\n",
              "      <td>Otro</td>\n",
              "      <td>0.018868</td>\n",
              "    </tr>\n",
              "  </tbody>\n",
              "</table>\n",
              "</div>"
            ],
            "text/plain": [
              "                 index    gender\n",
              "0               Hombre  0.632075\n",
              "1                Mujer  0.301887\n",
              "2  Prefiero no decirlo  0.047170\n",
              "3                 Otro  0.018868"
            ]
          },
          "metadata": {
            "tags": []
          },
          "execution_count": 15
        }
      ]
    },
    {
      "cell_type": "code",
      "metadata": {
        "colab_type": "code",
        "id": "SprWt7qjjhnG",
        "outputId": "1ed8a16f-745b-4bc9-9e6a-78f31b10e443",
        "colab": {
          "base_uri": "https://localhost:8080/",
          "height": 296
        }
      },
      "source": [
        "seaborn.barplot(data=data, x='index', y='gender', color='steelblue')\n",
        "plt.xlabel(\"Gender\")  # Rename the labels on the side of the axis\n",
        "plt.ylabel(\"Probability\")"
      ],
      "execution_count": 16,
      "outputs": [
        {
          "output_type": "execute_result",
          "data": {
            "text/plain": [
              "Text(0, 0.5, 'Probability')"
            ]
          },
          "metadata": {
            "tags": []
          },
          "execution_count": 16
        },
        {
          "output_type": "display_data",
          "data": {
            "image/png": "[encoded data removed]",
            "text/plain": [
              "<Figure size 432x288 with 1 Axes>"
            ]
          },
          "metadata": {
            "tags": [],
            "needs_background": "light"
          }
        }
      ]
    },
    {
      "cell_type": "markdown",
      "metadata": {
        "colab_type": "text",
        "id": "2IbCS52afTe0"
      },
      "source": [
        "## Probabilidad condicional\n",
        "\n",
        "Ahora podemos pasar a hablar de la probabilidad condicional. La definimos como\n",
        "\n",
        "$$P(A|B) = \\frac{P(A \\cap B)}{P(B)}$$\n",
        "\n",
        "Esto es equivalente a:\n",
        "\n",
        "$$P(A|B) = \\frac{|A \\cap B|}{|B|}$$\n",
        "\n",
        "## Ejercicio 1\n",
        "\n",
        "Calcular la probabilidad de que una respuesta tenga *gender=Mujer* dado que sabemos que tiene *zodiac_sign=Aries*"
      ]
    },
    {
      "cell_type": "code",
      "metadata": {
        "colab_type": "code",
        "id": "hhStGXpZfQUO",
        "outputId": "e95db212-a191-400a-d3b0-6767411a2d61",
        "colab": {
          "base_uri": "https://localhost:8080/",
          "height": 102
        }
      },
      "source": [
        "count_mujer_and_aries = len(df[(df.gender == 'Mujer') & (df.zodiac_sign == 'Aries')])\n",
        "p_mujer_aries = count_mujer_and_aries / len(df)\n",
        "## TODO completar acá\n",
        "print(count_mujer_and_aries, '/', len(df))\n",
        "\n",
        "#P(AyB)\n",
        "print(p_mujer_aries)\n",
        "\n",
        "# P(B)\n",
        "p_aries = len(df[(df.zodiac_sign == 'Aries')]) / len(df)\n",
        "print(p_aries)\n",
        "\n",
        "print(len(df[df.zodiac_sign == 'Aries']))\n",
        "#P(A\\B)\n",
        "print(p_mujer_aries / p_aries)"
      ],
      "execution_count": 17,
      "outputs": [
        {
          "output_type": "stream",
          "text": [
            "3 / 106\n",
            "0.02830188679245283\n",
            "0.08490566037735849\n",
            "9\n",
            "0.33333333333333337\n"
          ],
          "name": "stdout"
        }
      ]
    },
    {
      "cell_type": "markdown",
      "metadata": {
        "colab_type": "text",
        "id": "z1syR25xgdLO"
      },
      "source": [
        "## Independecia\n",
        "\n",
        "Ahora, para saber si dos conjuntos son independientes, tenemos que comprobar si $P(A|B) = P(A)$ ó $P(A\\cap B) = P(A)*P(B)$.\n",
        "\n",
        "## Ejercicio 2\n",
        "\n",
        "Calcular si los conjuntos de respuestas con *gender=Mujer* y *zodiac_sign=Aries* son independientes o no, utilizando ambos métodos.\n",
        "\n"
      ]
    },
    {
      "cell_type": "code",
      "metadata": {
        "colab_type": "code",
        "id": "-Wfg2p78PN_-",
        "outputId": "7f6f01e2-ac6e-46a9-b462-9004706d6ee3",
        "colab": {
          "base_uri": "https://localhost:8080/",
          "height": 102
        }
      },
      "source": [
        "# P(A)\n",
        "p_mujer = len(df[df.gender == 'Mujer']) / len(df)\n",
        "print(p_mujer)\n",
        "\n",
        "#P(B)\n",
        "print(p_aries)\n",
        "\n",
        "#P(AyB)\n",
        "print(p_mujer_aries)\n",
        "print(p_mujer*p_aries)\n",
        "\n",
        "if ( (p_mujer*p_aries) != p_mujer_aries ):\n",
        "    print(\"No son independientes\")"
      ],
      "execution_count": 18,
      "outputs": [
        {
          "output_type": "stream",
          "text": [
            "0.3018867924528302\n",
            "0.08490566037735849\n",
            "0.02830188679245283\n",
            "0.02563189747241011\n",
            "No son independientes\n"
          ],
          "name": "stdout"
        }
      ]
    },
    {
      "cell_type": "code",
      "metadata": {
        "id": "8F0VbK2SKGRD",
        "colab_type": "code",
        "colab": {}
      },
      "source": [
        ""
      ],
      "execution_count": 0,
      "outputs": []
    }
  ]
}